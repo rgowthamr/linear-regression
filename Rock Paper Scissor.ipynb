{
 "cells": [
  {
   "cell_type": "code",
   "execution_count": 2,
   "id": "09657859",
   "metadata": {},
   "outputs": [
    {
     "name": "stdout",
     "output_type": "stream",
     "text": [
      "enter list len:5\n",
      "3\n",
      "54\n",
      "23\n",
      "1\n",
      "0\n",
      "[3, 54, 23, 1, 0]\n",
      "sorted list is:\n",
      "0\n",
      "1\n",
      "3\n",
      "23\n",
      "54\n"
     ]
    }
   ],
   "source": [
    "n=int(input(\"enter list len:\"))\n",
    "a=[]\n",
    "for i in range(0,n):\n",
    "    ele=int(input())\n",
    "    a.append(ele)\n",
    "print(a)\n",
    "\n",
    "\n",
    "def f1(a): \n",
    "    n=len(a)\n",
    "    for i in range(n):\n",
    "        for j in range(0,n-i-1):\n",
    "            if(a[j]>a[j+1]):\n",
    "                a[j],a[j+1] = a[j+1], a[j]\n",
    "        \n",
    "f1(a)\n",
    "print(\"sorted list is:\")\n",
    "for i in range(len(a)):\n",
    "    print( \"%d\" %a[i])\n"
   ]
  }
 ],
 "metadata": {
  "kernelspec": {
   "display_name": "Python 3",
   "language": "python",
   "name": "python3"
  },
  "language_info": {
   "codemirror_mode": {
    "name": "ipython",
    "version": 3
   },
   "file_extension": ".py",
   "mimetype": "text/x-python",
   "name": "python",
   "nbconvert_exporter": "python",
   "pygments_lexer": "ipython3",
   "version": "3.8.8"
  }
 },
 "nbformat": 4,
 "nbformat_minor": 5
}
