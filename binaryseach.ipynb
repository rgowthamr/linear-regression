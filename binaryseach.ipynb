{
 "cells": [
  {
   "cell_type": "code",
   "execution_count": 10,
   "id": "d79700cc",
   "metadata": {},
   "outputs": [
    {
     "name": "stdout",
     "output_type": "stream",
     "text": [
      "do u want to continue 1.yes 2.no:1\n",
      "enter the lengh of list:5\n",
      "enter list elements:\n",
      "1\n",
      "2\n",
      "3\n",
      "4\n",
      "5\n",
      "[1, 2, 3, 4, 5]\n",
      "Enter search element5\n",
      "Element is present at index 5\n",
      "do u want to continue 1.yes 2.no:2\n"
     ]
    },
    {
     "ename": "SystemExit",
     "evalue": "",
     "output_type": "error",
     "traceback": [
      "An exception has occurred, use %tb to see the full traceback.\n",
      "\u001b[1;31mSystemExit\u001b[0m\n"
     ]
    }
   ],
   "source": [
    "import sys\n",
    "def f1():\n",
    "    # Python 3 program for recursive binary search.\n",
    "    # Modifications needed for the older Python 2 are found in comments.\n",
    "\n",
    "    # Returns index of x in arr if present, else -1\n",
    "    def binary_search(arr, low, high, x):\n",
    "\n",
    "        # Check base case\n",
    "        if high >= low:\n",
    "\n",
    "            mid = (high + low) // 2\n",
    "\n",
    "            # If element is present at the middle itself\n",
    "            if arr[mid] == x:\n",
    "                return mid\n",
    "\n",
    "            # If element is smaller than mid, then it can only\n",
    "            # be present in left subarray\n",
    "            elif arr[mid] > x:\n",
    "                return binary_search(arr, low, mid - 1, x)\n",
    "\n",
    "            # Else the element can only be present in right subarray\n",
    "            else:\n",
    "                return binary_search(arr, mid + 1, high, x)\n",
    "\n",
    "        else:\n",
    "            # Element is not present in the array\n",
    "            return -1\n",
    "\n",
    "    # Test array\n",
    "    n=int(input(\"enter the lengh of list:\"))\n",
    "    print(\"enter list elements:\")\n",
    "    arr=[]\n",
    "    for i in range (0,n):\n",
    "        ele=int(input())\n",
    "        arr.append(ele)\n",
    "    print(arr)\n",
    "    x=int(input(\"Enter search element\"))\n",
    "\n",
    "\n",
    "    # Function call\n",
    "    result = binary_search(arr, 0, len(arr)-1, x)\n",
    "\n",
    "    if result != -1:\n",
    "        print(\"Element is present at index\", str(result+1))\n",
    "    else:\n",
    "        print(\"Element is not present in array\")\n",
    "while (1):\n",
    "    q=int(input(\"do u want to continue 1.yes 2.no:\"))\n",
    "    if(q==1):\n",
    "        f1()\n",
    "    elif(q==2):\n",
    "        sys.exit()\n",
    "    else:\n",
    "        print(\"enter valid i/p\")"
   ]
  }
 ],
 "metadata": {
  "kernelspec": {
   "display_name": "Python 3",
   "language": "python",
   "name": "python3"
  },
  "language_info": {
   "codemirror_mode": {
    "name": "ipython",
    "version": 3
   },
   "file_extension": ".py",
   "mimetype": "text/x-python",
   "name": "python",
   "nbconvert_exporter": "python",
   "pygments_lexer": "ipython3",
   "version": "3.8.8"
  }
 },
 "nbformat": 4,
 "nbformat_minor": 5
}
