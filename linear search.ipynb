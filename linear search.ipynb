{
 "cells": [
  {
   "cell_type": "code",
   "execution_count": 6,
   "id": "995a78d5",
   "metadata": {},
   "outputs": [
    {
     "name": "stdout",
     "output_type": "stream",
     "text": [
      "enter list len:5\n",
      "1\n",
      "2\n",
      "3\n",
      "4\n",
      "5\n",
      "[1, 2, 3, 4, 5]\n",
      "enter search ele5\n",
      "element found at 5\n"
     ]
    }
   ],
   "source": [
    "x=2\n",
    "n=int(input(\"enter list len:\"))\n",
    "a=[]\n",
    "for i in range(0,n):\n",
    "    ele=int(input())\n",
    "    a.append(ele)\n",
    "print(a)\n",
    "se=int(input(\"enter search ele\"))\n",
    "\n",
    "\n",
    "def f1(i,j,k):\n",
    "    if (j==k):\n",
    "        print(\"element found at \"+str(i+1))\n",
    "if(x==2):\n",
    "    for i in range(0,n):\n",
    "        f1(i,a[i],se)\n",
    "else:\n",
    "        print(\"not found\")"
   ]
  }
 ],
 "metadata": {
  "kernelspec": {
   "display_name": "Python 3",
   "language": "python",
   "name": "python3"
  },
  "language_info": {
   "codemirror_mode": {
    "name": "ipython",
    "version": 3
   },
   "file_extension": ".py",
   "mimetype": "text/x-python",
   "name": "python",
   "nbconvert_exporter": "python",
   "pygments_lexer": "ipython3",
   "version": "3.8.8"
  }
 },
 "nbformat": 4,
 "nbformat_minor": 5
}
