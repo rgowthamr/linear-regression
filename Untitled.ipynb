{
 "cells": [
  {
   "cell_type": "code",
   "execution_count": 1,
   "id": "e1db8bbb",
   "metadata": {},
   "outputs": [
    {
     "name": "stdout",
     "output_type": "stream",
     "text": [
      "welcome\n",
      "1.rock 2.paper 3.sissor1\n",
      "system is  responding\n",
      "u win\n",
      "do u wnt to continue 1.yes 2.no2\n"
     ]
    }
   ],
   "source": [
    "import random\n",
    "import time\n",
    "print(\"welcome\")\n",
    "while(1):\n",
    "    def f1():\n",
    "        uc=int(input(\"1.rock 2.paper 3.sissor\"))\n",
    "        time.sleep(2)\n",
    "        print(\"system is  responding\")\n",
    "        sc=random.randint(1,3)\n",
    "        if (uc==sc==1):\n",
    "            time.sleep(2)\n",
    "            print(\"u win\")\n",
    "        elif ((uc==2)or(sc==2)):\n",
    "            time.sleep(2)\n",
    "            print(\"u win\")    \n",
    "        elif (uc==sc==3):\n",
    "            time.sleep(2)\n",
    "            print(\"u win\")    \n",
    "        elif((uc==1)or(uc==2)or(uc==3)):\n",
    "            time.sleep(2)\n",
    "            print(\"u lost\")\n",
    "        time.sleep(2)\n",
    "        x=int(input(\"do u wnt to continue 1.yes 2.no\"))\n",
    "        return x\n",
    "    y=f1()\n",
    "    if (y==1):\n",
    "        f1()\n",
    "    elif(y==2):\n",
    "        break\n",
    "    else:\n",
    "        print(\"enter correct option\")"
   ]
  }
 ],
 "metadata": {
  "kernelspec": {
   "display_name": "Python 3",
   "language": "python",
   "name": "python3"
  },
  "language_info": {
   "codemirror_mode": {
    "name": "ipython",
    "version": 3
   },
   "file_extension": ".py",
   "mimetype": "text/x-python",
   "name": "python",
   "nbconvert_exporter": "python",
   "pygments_lexer": "ipython3",
   "version": "3.8.8"
  }
 },
 "nbformat": 4,
 "nbformat_minor": 5
}
